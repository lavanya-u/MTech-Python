{
 "cells": [
  {
   "cell_type": "markdown",
   "metadata": {},
   "source": [
    "# Numpy Exercise  <img src = \"numpy1.png\">\n",
    "###### Authored by T.K.Senthil Kumar"
   ]
  },
  {
   "cell_type": "markdown",
   "metadata": {},
   "source": [
    "#### 1. Create a numpy array with the number of elements equals your age. The value of array elements is a random number between 10 to your age "
   ]
  },
  {
   "cell_type": "code",
   "execution_count": 1,
   "metadata": {},
   "outputs": [
    {
     "data": {
      "text/plain": [
       "array([13, 17, 13, 13, 17, 18, 18, 22, 18, 12, 15, 21, 12, 11, 23, 23, 19,\n",
       "       18, 19, 15, 16, 12, 10])"
      ]
     },
     "execution_count": 1,
     "metadata": {},
     "output_type": "execute_result"
    }
   ],
   "source": [
    "import numpy as np\n",
    "# Age = 23\n",
    "np.random.randint(10,24,23)\n"
   ]
  },
  {
   "cell_type": "markdown",
   "metadata": {},
   "source": [
    "#### 2. Create a numpy array between 1 to 50 with the span(space) of 2 and print the length of the array"
   ]
  },
  {
   "cell_type": "code",
   "execution_count": 2,
   "metadata": {},
   "outputs": [
    {
     "name": "stdout",
     "output_type": "stream",
     "text": [
      "Array : [ 1  3  5  7  9 11 13 15 17 19 21 23 25 27 29 31 33 35 37 39 41 43 45 47\n",
      " 49]\n",
      "Array Size :  25\n"
     ]
    }
   ],
   "source": [
    "a = np.arange(1,50,2)\n",
    "print(\"Array :\",a)\n",
    "\n",
    "#print(\"Array Size : \",a.size)\n",
    "print(\"Array Size : \",len(a))"
   ]
  },
  {
   "cell_type": "markdown",
   "metadata": {},
   "source": [
    "#### 3. Create an equally spaced numpy array with 27 elements between 4 and 7 "
   ]
  },
  {
   "cell_type": "code",
   "execution_count": 3,
   "metadata": {},
   "outputs": [
    {
     "data": {
      "text/plain": [
       "array([4.        , 4.11538462, 4.23076923, 4.34615385, 4.46153846,\n",
       "       4.57692308, 4.69230769, 4.80769231, 4.92307692, 5.03846154,\n",
       "       5.15384615, 5.26923077, 5.38461538, 5.5       , 5.61538462,\n",
       "       5.73076923, 5.84615385, 5.96153846, 6.07692308, 6.19230769,\n",
       "       6.30769231, 6.42307692, 6.53846154, 6.65384615, 6.76923077,\n",
       "       6.88461538, 7.        ])"
      ]
     },
     "execution_count": 3,
     "metadata": {},
     "output_type": "execute_result"
    }
   ],
   "source": [
    "np.linspace(4,7,27)\n"
   ]
  },
  {
   "cell_type": "markdown",
   "metadata": {},
   "source": [
    "#### 4. Create a matrix of size (5 x 4) with random numbers and round off the each elements by only 2 fractional points."
   ]
  },
  {
   "cell_type": "code",
   "execution_count": 4,
   "metadata": {},
   "outputs": [
    {
     "data": {
      "text/plain": [
       "array([[0.83, 0.2 , 0.24, 0.83],\n",
       "       [0.38, 0.74, 0.51, 0.31],\n",
       "       [0.4 , 0.25, 0.39, 0.94],\n",
       "       [0.42, 0.05, 0.81, 0.95],\n",
       "       [0.88, 0.48, 0.25, 0.79]])"
      ]
     },
     "execution_count": 4,
     "metadata": {},
     "output_type": "execute_result"
    }
   ],
   "source": [
    "rand_array = np.random.rand(5,4)\n",
    "np.round(rand_array,2)"
   ]
  },
  {
   "cell_type": "markdown",
   "metadata": {},
   "source": [
    "#### 5. Create a matrix of size (5x5) with random integers between 5 to 15"
   ]
  },
  {
   "cell_type": "code",
   "execution_count": 5,
   "metadata": {},
   "outputs": [
    {
     "data": {
      "text/plain": [
       "array([[15, 13, 13, 15,  7],\n",
       "       [10, 12, 14, 13,  5],\n",
       "       [13,  8, 12, 14, 11],\n",
       "       [ 7,  9,  9, 12, 10],\n",
       "       [12, 13,  8, 14,  9]])"
      ]
     },
     "execution_count": 5,
     "metadata": {},
     "output_type": "execute_result"
    }
   ],
   "source": [
    "np.random.randint(5,16,(5,5))\n"
   ]
  },
  {
   "cell_type": "markdown",
   "metadata": {},
   "source": [
    "#### 6. Create the one dimensional array of zeros of random length below 20 with the data type int32"
   ]
  },
  {
   "cell_type": "code",
   "execution_count": 6,
   "metadata": {},
   "outputs": [
    {
     "data": {
      "text/plain": [
       "array([0])"
      ]
     },
     "execution_count": 6,
     "metadata": {},
     "output_type": "execute_result"
    }
   ],
   "source": [
    "np.zeros(np.random.randint(20),dtype='int32')"
   ]
  },
  {
   "cell_type": "markdown",
   "metadata": {},
   "source": [
    "#### 7. Create a two dimensional array of ones of random row and column lengths with the data type of float32 "
   ]
  },
  {
   "cell_type": "code",
   "execution_count": 7,
   "metadata": {},
   "outputs": [
    {
     "name": "stdout",
     "output_type": "stream",
     "text": [
      "16 11\n"
     ]
    },
    {
     "data": {
      "text/plain": [
       "array([[1., 1., 1., 1., 1., 1., 1., 1., 1., 1., 1.],\n",
       "       [1., 1., 1., 1., 1., 1., 1., 1., 1., 1., 1.],\n",
       "       [1., 1., 1., 1., 1., 1., 1., 1., 1., 1., 1.],\n",
       "       [1., 1., 1., 1., 1., 1., 1., 1., 1., 1., 1.],\n",
       "       [1., 1., 1., 1., 1., 1., 1., 1., 1., 1., 1.],\n",
       "       [1., 1., 1., 1., 1., 1., 1., 1., 1., 1., 1.],\n",
       "       [1., 1., 1., 1., 1., 1., 1., 1., 1., 1., 1.],\n",
       "       [1., 1., 1., 1., 1., 1., 1., 1., 1., 1., 1.],\n",
       "       [1., 1., 1., 1., 1., 1., 1., 1., 1., 1., 1.],\n",
       "       [1., 1., 1., 1., 1., 1., 1., 1., 1., 1., 1.],\n",
       "       [1., 1., 1., 1., 1., 1., 1., 1., 1., 1., 1.],\n",
       "       [1., 1., 1., 1., 1., 1., 1., 1., 1., 1., 1.],\n",
       "       [1., 1., 1., 1., 1., 1., 1., 1., 1., 1., 1.],\n",
       "       [1., 1., 1., 1., 1., 1., 1., 1., 1., 1., 1.],\n",
       "       [1., 1., 1., 1., 1., 1., 1., 1., 1., 1., 1.],\n",
       "       [1., 1., 1., 1., 1., 1., 1., 1., 1., 1., 1.]], dtype=float32)"
      ]
     },
     "execution_count": 7,
     "metadata": {},
     "output_type": "execute_result"
    }
   ],
   "source": [
    "r = np.random.randint(1,20)\n",
    "c = np.random.randint(1,20)\n",
    "print(r,c)\n",
    "np.ones((r,c), dtype = 'float32')\n"
   ]
  },
  {
   "cell_type": "markdown",
   "metadata": {},
   "source": [
    "#### 8. Create a matrix exactly as same as shown below and print its shape, type and dtype\n",
    "<img src = \"np_mat1.png\">"
   ]
  },
  {
   "cell_type": "code",
   "execution_count": 8,
   "metadata": {},
   "outputs": [
    {
     "name": "stdout",
     "output_type": "stream",
     "text": [
      "shape : (5, 5)\n",
      "type  : <class 'numpy.ndarray'>\n",
      "dtype : int32\n"
     ]
    }
   ],
   "source": [
    "ar = np.array([[9,25,50,34,45],\n",
    "          [3,34,34,65,2],\n",
    "          [5,7,3,76,3],\n",
    "          [7,8,6,54,6],\n",
    "          [23,12,8,5,8]])\n",
    "print(\"shape :\",ar.shape)\n",
    "print(\"type  :\",type(ar))\n",
    "print(\"dtype :\",ar.dtype)"
   ]
  },
  {
   "cell_type": "markdown",
   "metadata": {},
   "source": [
    "#### 9. Access the center pixel of the matrix defined in the question no 8 ( Don't enter the row and column index explicitely)"
   ]
  },
  {
   "cell_type": "code",
   "execution_count": 9,
   "metadata": {},
   "outputs": [
    {
     "name": "stdout",
     "output_type": "stream",
     "text": [
      "center pixel of the matrix:  3\n"
     ]
    }
   ],
   "source": [
    "\n",
    "r = int(len(ar)/2)     #center row\n",
    "c = int(len(ar.T)/2)   #center column\n",
    "print(\"center pixel of the matrix: \",ar[r,c])"
   ]
  },
  {
   "cell_type": "markdown",
   "metadata": {},
   "source": [
    "#### 10. Print the all the elements of 3rd row of the matrix"
   ]
  },
  {
   "cell_type": "code",
   "execution_count": 10,
   "metadata": {},
   "outputs": [
    {
     "name": "stdout",
     "output_type": "stream",
     "text": [
      "3rd row of the matrix : \n",
      "[ 5  7  3 76  3]\n"
     ]
    }
   ],
   "source": [
    "print(\"3rd row of the matrix : \")\n",
    "print(ar[2,:])"
   ]
  },
  {
   "cell_type": "markdown",
   "metadata": {},
   "source": [
    "#### 11. Print the all the elements of 4th columns of the matrix"
   ]
  },
  {
   "cell_type": "code",
   "execution_count": 11,
   "metadata": {},
   "outputs": [
    {
     "name": "stdout",
     "output_type": "stream",
     "text": [
      "4th column of the matrix : \n",
      "[34 65 76 54  5]\n"
     ]
    }
   ],
   "source": [
    "print(\"4th column of the matrix : \")\n",
    "print(ar[:,3])\n"
   ]
  },
  {
   "cell_type": "markdown",
   "metadata": {},
   "source": [
    "#### 12. Print the 4 corner pixels of the matrix"
   ]
  },
  {
   "cell_type": "code",
   "execution_count": 12,
   "metadata": {},
   "outputs": [
    {
     "name": "stdout",
     "output_type": "stream",
     "text": [
      "Corner pixels of the matrix are : \n",
      "9 45 23 8\n"
     ]
    }
   ],
   "source": [
    "print(\"Corner pixels of the matrix are : \")\n",
    "print(ar[0,0],ar[0,-1],ar[-1,0],ar[-1,-1])"
   ]
  },
  {
   "cell_type": "markdown",
   "metadata": {},
   "source": [
    "#### 13. Create three matrix m1,m2,m3 with the elements grouped in the figure below\n",
    "<img src = \"np_mat2.png\">"
   ]
  },
  {
   "cell_type": "code",
   "execution_count": 13,
   "metadata": {},
   "outputs": [
    {
     "name": "stdout",
     "output_type": "stream",
     "text": [
      "m1= [[50 34]\n",
      " [34 65]]\n",
      "\n",
      "m2= [[ 7  8]\n",
      " [23 12]]\n",
      "\n",
      "m3= [[ 3 76  3]\n",
      " [ 6 54  6]\n",
      " [ 8  5  8]]\n"
     ]
    }
   ],
   "source": [
    "m1 = ar[:2,2:4]\n",
    "print(\"m1=\",m1)\n",
    "\n",
    "m2 = ar[3:,:2]\n",
    "print(\"\\nm2=\",m2)\n",
    "\n",
    "m3 = ar[2:,2:]\n",
    "print(\"\\nm3=\",m3)"
   ]
  },
  {
   "cell_type": "markdown",
   "metadata": {},
   "source": [
    "#### 14. Reshape all the three matrix segmented in the above task in to three  1-dimensional vector."
   ]
  },
  {
   "cell_type": "code",
   "execution_count": 14,
   "metadata": {},
   "outputs": [
    {
     "name": "stdout",
     "output_type": "stream",
     "text": [
      "m1 : [50 34 34 65]\n",
      "m2 : [ 7  8 23 12]\n",
      "m3 : [ 3 76  3  6 54  6  8  5  8]\n"
     ]
    }
   ],
   "source": [
    "# Can be done using ravel or flatten. \n",
    "#Ravel -->  Creates a view of the original array\n",
    "#flatten --> Creates a copy of the array\n",
    "\n",
    "print(\"m1 :\",np.ravel(m1))\n",
    "print(\"m2 :\",np.ravel(m2))\n",
    "print(\"m3 :\",np.ravel(m3))"
   ]
  },
  {
   "cell_type": "markdown",
   "metadata": {},
   "source": [
    "#### 15. Concatenate the matrix m1 and m2 in both vertical and horizontal direction"
   ]
  },
  {
   "cell_type": "code",
   "execution_count": 15,
   "metadata": {
    "scrolled": true
   },
   "outputs": [
    {
     "name": "stdout",
     "output_type": "stream",
     "text": [
      "---Vertical---\n",
      "[[50 34]\n",
      " [34 65]\n",
      " [ 7  8]\n",
      " [23 12]]\n",
      "---Horizontal---\n",
      "[[50 34  7  8]\n",
      " [34 65 23 12]]\n"
     ]
    }
   ],
   "source": [
    "print(\"---Vertical---\")\n",
    "print(np.concatenate((m1,m2),axis=0))\n",
    "print(\"---Horizontal---\")\n",
    "print(np.concatenate((m1,m2),axis=1))"
   ]
  },
  {
   "cell_type": "markdown",
   "metadata": {},
   "source": [
    "#### 16. Add, Subtract, multiply, divide the matrixes m1 and m2"
   ]
  },
  {
   "cell_type": "code",
   "execution_count": 16,
   "metadata": {},
   "outputs": [
    {
     "name": "stdout",
     "output_type": "stream",
     "text": [
      "Add :\n",
      " [[57 42]\n",
      " [57 77]]\n",
      "Subtract :\n",
      " [[43 26]\n",
      " [11 53]]\n",
      "Multiply :\n",
      " [[350 272]\n",
      " [782 780]]\n",
      "Divide :\n",
      " [[7.14285714 4.25      ]\n",
      " [1.47826087 5.41666667]]\n"
     ]
    }
   ],
   "source": [
    "print(\"Add :\\n\",m1+m2)\n",
    "print(\"Subtract :\\n\",m1-m2)\n",
    "print(\"Multiply :\\n\",m1*m2)\n",
    "print(\"Divide :\\n\",m1/m2)"
   ]
  },
  {
   "cell_type": "markdown",
   "metadata": {},
   "source": [
    "#### 17. Add the m1 with m3 by removing the first row and last column of m3"
   ]
  },
  {
   "cell_type": "code",
   "execution_count": 17,
   "metadata": {},
   "outputs": [
    {
     "name": "stdout",
     "output_type": "stream",
     "text": [
      "m1: \n",
      " [[50 34]\n",
      " [34 65]]\n",
      "m3: \n",
      " [[ 3 76  3]\n",
      " [ 6 54  6]\n",
      " [ 8  5  8]]\n",
      "new m3:\n",
      "  [[ 6 54]\n",
      " [ 8  5]]\n",
      "Addition result : \n",
      "[[56 88]\n",
      " [42 70]]\n"
     ]
    }
   ],
   "source": [
    "new_m3 = np.delete(m3,0,0)\n",
    "new_m3 = np.delete(new_m3,-1,1)\n",
    "print(\"m1: \\n\",m1)\n",
    "print(\"m3: \\n\",m3)\n",
    "print(\"new m3:\\n \",new_m3)\n",
    "print(\"Addition result : \")\n",
    "print(m1+new_m3)"
   ]
  },
  {
   "cell_type": "markdown",
   "metadata": {},
   "source": [
    "#### 18. Form the matrix m4 by concatenating (as a new row) the vector [me1, me2] with the matrix m1, where me1 and me2 are the mean values of each column on m1."
   ]
  },
  {
   "cell_type": "code",
   "execution_count": 18,
   "metadata": {},
   "outputs": [
    {
     "data": {
      "text/plain": [
       "array([[50. , 34. ],\n",
       "       [34. , 65. ],\n",
       "       [42. , 49.5]])"
      ]
     },
     "execution_count": 18,
     "metadata": {},
     "output_type": "execute_result"
    }
   ],
   "source": [
    "m1_mean = m1.mean(axis=0)\n",
    "m1_mean = m1_mean.reshape(1,2)\n",
    "m4=np.concatenate((m1,m1_mean),axis=0)\n",
    "m4"
   ]
  },
  {
   "cell_type": "markdown",
   "metadata": {},
   "source": [
    "#### 19. Perform the matrix multiplication between m3 and m4"
   ]
  },
  {
   "cell_type": "code",
   "execution_count": 19,
   "metadata": {},
   "outputs": [
    {
     "name": "stdout",
     "output_type": "stream",
     "text": [
      "[[2860.  5190.5]\n",
      " [2388.  4011. ]\n",
      " [ 906.   993. ]]\n"
     ]
    }
   ],
   "source": [
    "#print(np.dot(m3,m4))\n",
    "print(np.matmul(m3,m4))"
   ]
  },
  {
   "cell_type": "markdown",
   "metadata": {},
   "source": [
    "#### 20. Compute the maximum and minimum value of mean, variance, standard deviation for each row of matrix created in question number 8."
   ]
  },
  {
   "cell_type": "code",
   "execution_count": 20,
   "metadata": {},
   "outputs": [
    {
     "name": "stdout",
     "output_type": "stream",
     "text": [
      "------Mean------\n",
      "[32.6 27.6 18.8 16.2 11.2] \n",
      "\n",
      "Max: 32.6 \n",
      "Min: 11.2 \n",
      "\n",
      "----Variance----\n",
      "[214.64 548.24 820.16 357.76  39.76] \n",
      "\n",
      "Max: 820.1600000000001 \n",
      "Min: 39.760000000000005 \n",
      "\n",
      "----Standard Deviation----\n",
      "[14.65059726 23.41452541 28.63843571 18.91454467  6.30555311] \n",
      "\n",
      "Max: 28.63843571147 \n",
      "Min: 6.305553108173779\n"
     ]
    }
   ],
   "source": [
    "mean_ar = ar.mean(axis=1)\n",
    "var_ar = ar.var(axis=1)\n",
    "sd_ar = ar.std(axis=1)\n",
    "\n",
    "print(\"------Mean------\")\n",
    "print(mean_ar,\"\\n\")\n",
    "print(\"Max:\",mean_ar.max(),\"\\nMin:\",mean_ar.min(),\"\\n\")\n",
    "print(\"----Variance----\")\n",
    "print(var_ar,\"\\n\")\n",
    "print(\"Max:\",var_ar.max(),\"\\nMin:\",var_ar.min(),\"\\n\")\n",
    "print(\"----Standard Deviation----\")\n",
    "print(sd_ar,\"\\n\")\n",
    "print(\"Max:\",sd_ar.max(),\"\\nMin:\",sd_ar.min())"
   ]
  },
  {
   "cell_type": "markdown",
   "metadata": {},
   "source": [
    "#### 21. Compute the average and strike rate for each player and sort it decending way (seperately for avg and strike rate)\n",
    "<img src = 'crick1.png'>"
   ]
  },
  {
   "cell_type": "code",
   "execution_count": 21,
   "metadata": {},
   "outputs": [
    {
     "name": "stdout",
     "output_type": "stream",
     "text": [
      "Average of each player in descending order :\n",
      "[53.5  51.5  47.25 29.   13.25] \n",
      "\n",
      "Average Strike rate of each player in descending order : \n",
      "[162.99554687  94.91125541  81.69675643  62.17703913  47.96296296]\n"
     ]
    }
   ],
   "source": [
    "runs = np.array([[54,60,10,65],[102,2,78,32],[3,110,1,92],[56,6,12,42],[12,8,22,11]])\n",
    "balls = np.array([[50,42,22,78],[95,8,65,43],[9,100,7,101],[27,3,11,31],[24,20,36,27]])\n",
    "\n",
    "strike_rate = (runs/balls)*100\n",
    "\n",
    "print(\"Average of each player in descending order :\")\n",
    "print(np.sort(runs.mean(axis=1))[::-1],\"\\n\")\n",
    "print(\"Average Strike rate of each player in descending order : \")\n",
    "print(np.sort(strike_rate.mean(axis=1))[::-1])\n"
   ]
  },
  {
   "cell_type": "markdown",
   "metadata": {},
   "source": [
    "#### 22. The students mark was recorded in a numpy array: marks = np.array([65,84,47,56,89,98,48,77,80,39]).  Cutoff for pass is 50 marks. Write the logic to print the number of students passed and failed. "
   ]
  },
  {
   "cell_type": "code",
   "execution_count": 22,
   "metadata": {},
   "outputs": [
    {
     "name": "stdout",
     "output_type": "stream",
     "text": [
      "Number of students passed : 7\n",
      "Number of students failed : 3\n"
     ]
    }
   ],
   "source": [
    "marks = np.array([65,84,47,56,89,98,48,77,80,39])\n",
    "passed=(marks>=50).sum()\n",
    "failed = len(marks)-passed\n",
    "print(\"Number of students passed :\",passed)\n",
    "print(\"Number of students failed :\",failed)"
   ]
  },
  {
   "cell_type": "markdown",
   "metadata": {},
   "source": [
    "#### 23. The class incharge decided to give a mercy mark of 5 for those who scored between 45 and 49. Also the bonus of 5 marks awarded to the students who scored more than 80. Print all the student marks and compute the increase in the pass percentage of class. Any score more than 100 must be recorded as only 100."
   ]
  },
  {
   "cell_type": "code",
   "execution_count": 23,
   "metadata": {},
   "outputs": [
    {
     "name": "stdout",
     "output_type": "stream",
     "text": [
      "New Marks: [ 65  89  52  56  94 100  53  77  80  39]\n",
      "Percentage Increase: 28.57142857142857 %\n"
     ]
    }
   ],
   "source": [
    "#Grace marks\n",
    "ind = np.where((marks<50)&(marks>=45))\n",
    "marks[ind] = marks[ind] + 5\n",
    "\n",
    "#Bonus marks\n",
    "ind1 = np.where(marks>80)\n",
    "marks[ind1] = marks[ind1] + 5\n",
    "\n",
    "#Marks > 100\n",
    "ind2 = np.where(marks>100)\n",
    "marks[ind2]=100\n",
    "print(\"New Marks:\",marks)\n",
    "\n",
    "#pass percentage increase\n",
    "new_passed = (marks>=50).sum()\n",
    "increase = ((new_passed-passed)/passed)*100\n",
    "print(\"Percentage Increase:\",increase,\"%\")"
   ]
  },
  {
   "cell_type": "markdown",
   "metadata": {},
   "source": [
    "#### 24. Print the time taken for performing the following operation using list and numpy array\n",
    "####       (x(i)^2 +8) / y(i),   where x and y are real integers from 1 to 60000"
   ]
  },
  {
   "cell_type": "code",
   "execution_count": 24,
   "metadata": {},
   "outputs": [
    {
     "name": "stdout",
     "output_type": "stream",
     "text": [
      "Time taken for list to execute :  0.08900618553161621\n",
      "Time taken for array to execute :  0.006000995635986328\n"
     ]
    }
   ],
   "source": [
    "import time\n",
    "\n",
    "# Executing expression using list\n",
    "start_time = time.time()\n",
    "x = list(range(1,60000))\n",
    "y = list(range(1,60000))\n",
    "output = []\n",
    "for i in range(len(x)):\n",
    "    output.append(((x[i]**2)+8)/y[i])\n",
    "end_time = time.time()\n",
    "print(\"Time taken for list to execute : \",end_time-start_time)\n",
    "\n",
    "\n",
    "# Executing expression using array\n",
    "start_time = time.time()\n",
    "x = np.arange(1,60000)\n",
    "y = np.arange(1,60000)\n",
    "output = ((x**2)+8)/y\n",
    "end_time = time.time()\n",
    "print(\"Time taken for array to execute : \",end_time-start_time)\n"
   ]
  },
  {
   "cell_type": "markdown",
   "metadata": {},
   "source": [
    "#### 25. Create a Github account and upload your solution with the short write-up on Numpy"
   ]
  },
  {
   "cell_type": "code",
   "execution_count": 25,
   "metadata": {},
   "outputs": [],
   "source": [
    "#Git Hub account created and file has been uploaded\n",
    "\n",
    "#https://github.com/lavanya-u/MTech-Python.git"
   ]
  }
 ],
 "metadata": {
  "kernelspec": {
   "display_name": "Python 3",
   "language": "python",
   "name": "python3"
  },
  "language_info": {
   "codemirror_mode": {
    "name": "ipython",
    "version": 3
   },
   "file_extension": ".py",
   "mimetype": "text/x-python",
   "name": "python",
   "nbconvert_exporter": "python",
   "pygments_lexer": "ipython3",
   "version": "3.8.8"
  }
 },
 "nbformat": 4,
 "nbformat_minor": 2
}
